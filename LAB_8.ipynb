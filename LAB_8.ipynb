{
  "nbformat": 4,
  "nbformat_minor": 0,
  "metadata": {
    "colab": {
      "provenance": []
    },
    "kernelspec": {
      "name": "python3",
      "display_name": "Python 3"
    },
    "language_info": {
      "name": "python"
    }
  },
  "cells": [
    {
      "cell_type": "markdown",
      "source": [
        "Import the libraries and the Dataset"
      ],
      "metadata": {
        "id": "X6IY00Ncf6E3"
      }
    },
    {
      "cell_type": "code",
      "execution_count": null,
      "metadata": {
        "id": "bpLnlF6DfxvY"
      },
      "outputs": [],
      "source": [
        "import numpy as np\n",
        "import seaborn as sns\n",
        "\n",
        "data= sns.load_dataset(name=\"iris\")"
      ]
    },
    {
      "cell_type": "markdown",
      "source": [
        "Q1. Estimate the mean and the variance of the four attributes."
      ],
      "metadata": {
        "id": "uH_8rQbWgMxF"
      }
    },
    {
      "cell_type": "code",
      "source": [
        "a=data['sepal_length']\n",
        "print(f\"Mean and Variance of the attribute Sepal Length are {np.mean(a)} and {np.var(a)} respectively.\")\n",
        "b=data['sepal_width']\n",
        "print(f\"Mean and Variance of the attribute Sepal Width are {np.mean(b)} and {np.var(b)} respectively.\")\n",
        "c=data['petal_length']\n",
        "print(f\"Mean and Variance of the attribute Petal Length are {np.mean(c)} and {np.var(c)} respectively.\")\n",
        "d=data['petal_width']\n",
        "print(f\"Mean and Variance of the attribute Petal Width are {np.mean(d)} and {np.var(d)} respectively.\")"
      ],
      "metadata": {
        "colab": {
          "base_uri": "https://localhost:8080/"
        },
        "id": "x54Xoxd7gVIT",
        "outputId": "93cc33bf-5119-4972-e701-1178febceb70"
      },
      "execution_count": null,
      "outputs": [
        {
          "output_type": "stream",
          "name": "stdout",
          "text": [
            "Mean and Variance of the attribute Sepal Length are 5.843333333333334 and 0.6811222222222223 respectively.\n",
            "Mean and Variance of the attribute Sepal Width are 3.0573333333333337 and 0.1887128888888889 respectively.\n",
            "Mean and Variance of the attribute Petal Length are 3.7580000000000005 and 3.0955026666666665 respectively.\n",
            "Mean and Variance of the attribute Petal Width are 1.1993333333333336 and 0.5771328888888888 respectively.\n"
          ]
        }
      ]
    },
    {
      "cell_type": "markdown",
      "source": [
        "Q2. Arrange the pairs of attributes in the descending order of their correlation coefficients."
      ],
      "metadata": {
        "id": "dwM4uNACjmWa"
      }
    },
    {
      "cell_type": "code",
      "source": [
        "def s(x):\n",
        "    bl = []\n",
        "    sx = 0\n",
        "    for i in x:\n",
        "        bl.append(i**2)\n",
        "    sx += ((np.sum(bl) / len(bl)) - (np.sum(x) / len(x))**2) ** (1/2)\n",
        "    return sx\n",
        "\n",
        "def correlation(x, y, z, w):\n",
        "    def evc(a, b):\n",
        "        total = 0\n",
        "        for i in range(len(a)):\n",
        "            total += (a[i] * b[i])\n",
        "        ev = total / len(a)\n",
        "        return ev\n",
        "\n",
        "    def evc1(c):\n",
        "        t = 0\n",
        "        for i in c:\n",
        "            t += i\n",
        "        ev1 = t / len(c)\n",
        "        return ev1\n",
        "\n",
        "    cov_xy = evc(x, y) - evc1(x) * evc1(y)\n",
        "    corr_coef_xy = cov_xy / (s(x) * s(y))\n",
        "    cov_xz = evc(x, z) - evc1(x) * evc1(z)\n",
        "    corr_coef_xz = cov_xz / (s(x) * s(z))\n",
        "    cov_xw = evc(x, w) - evc1(x) * evc1(w)\n",
        "    corr_coef_xw = cov_xw / (s(x) * s(w))\n",
        "    cov_yz = evc(y, z) - evc1(y) * evc1(z)\n",
        "    corr_coef_yz = cov_yz / (s(y) * s(z))\n",
        "    cov_yw = evc(y, w) - evc1(y) * evc1(w)\n",
        "    corr_coef_yw = cov_yw / (s(y) * s(w))\n",
        "    cov_wz = evc(w, z) - evc1(w) * evc1(z)\n",
        "    corr_coef_wz = cov_wz / (s(w) * s(z))\n",
        "\n",
        "    corr_coefs = [corr_coef_wz, corr_coef_xw, corr_coef_xy, corr_coef_xz, corr_coef_yz, corr_coef_yw]\n",
        "    sorted_corr_coefs = sorted(corr_coefs, reverse=True)\n",
        "    print(sorted_corr_coefs)\n",
        "correlation(a,b,c,d)"
      ],
      "metadata": {
        "colab": {
          "base_uri": "https://localhost:8080/"
        },
        "id": "WYBGjsDmjtSV",
        "outputId": "1b2fd2ae-4707-4f4f-a70a-dc9fcd16354a"
      },
      "execution_count": null,
      "outputs": [
        {
          "output_type": "stream",
          "name": "stdout",
          "text": [
            "[0.9628654314027932, 0.8717537758865759, 0.8179411262715703, -0.11756978413301937, -0.36612593253644726, -0.42844010433055696]\n"
          ]
        }
      ]
    },
    {
      "cell_type": "markdown",
      "source": [
        "Q3. Repeat the Question 2 above for the 3 different species separately and report the same."
      ],
      "metadata": {
        "id": "vi1IZPKV1sRk"
      }
    },
    {
      "cell_type": "code",
      "source": [
        "X=data[data['species']=='setosa']\n",
        "x=X['sepal_length']\n",
        "y=X['sepal_width']\n",
        "z=X['petal_length']\n",
        "w=X['petal_width']\n",
        "correlation(x,y,z,w)\n",
        "\n",
        "Y=data[data['species']=='versicolor']\n",
        "x=Y['sepal_length']\n",
        "y=Y['sepal_width']\n",
        "z=Y['petal_length']\n",
        "w=Y['petal_width']\n",
        "x=x.values\n",
        "y=y.values\n",
        "z=z.values\n",
        "w=w.values\n",
        "correlation(x,y,z,w)\n",
        "\n",
        "Y=data[data['species']=='virginica']\n",
        "x=Y['sepal_length']\n",
        "y=Y['sepal_width']\n",
        "z=Y['petal_length']\n",
        "w=Y['petal_width']\n",
        "x=x.values\n",
        "y=y.values\n",
        "z=z.values\n",
        "w=w.values\n",
        "correlation(x,y,z,w)"
      ],
      "metadata": {
        "colab": {
          "base_uri": "https://localhost:8080/"
        },
        "id": "8lv7oKLX1wfy",
        "outputId": "3f047385-1e7c-435a-9e27-0d07881be23a"
      },
      "execution_count": null,
      "outputs": [
        {
          "output_type": "stream",
          "name": "stdout",
          "text": [
            "[0.7425466856652122, 0.3316300408041404, 0.27809835293600593, 0.2671757588688006, 0.23275201136287862, 0.17769996678224648]\n",
            "[0.7866680885228181, 0.7540489585920116, 0.6639987200241272, 0.5605220916930016, 0.5464610715986498, 0.5259107172828414]\n",
            "[0.8642247329355826, 0.5377280262661961, 0.45722781639414295, 0.4010445773427765, 0.32210821590029104, 0.2811077091573237]\n"
          ]
        }
      ]
    }
  ]
}